{
 "cells": [
  {
   "cell_type": "code",
   "execution_count": 1,
   "id": "b1aa4f98-0bc9-485b-aee3-3f2fec36fe0e",
   "metadata": {},
   "outputs": [
    {
     "name": "stdout",
     "output_type": "stream",
     "text": [
      "--2024-06-23 19:21:29--  https://raw.githubusercontent.com/DataTalksClub/llm-zoomcamp/main/01-intro/minsearch.py\n",
      "Resolving raw.githubusercontent.com (raw.githubusercontent.com)... 185.199.111.133, 185.199.108.133, 185.199.109.133, ...\n",
      "Connecting to raw.githubusercontent.com (raw.githubusercontent.com)|185.199.111.133|:443... connected.\n",
      "HTTP request sent, awaiting response... 200 OK\n",
      "Length: 3832 (3.7K) [text/plain]\n",
      "Saving to: ‘minsearch.py’\n",
      "\n",
      "minsearch.py        100%[===================>]   3.74K  --.-KB/s    in 0s      \n",
      "\n",
      "2024-06-23 19:21:30 (12.4 MB/s) - ‘minsearch.py’ saved [3832/3832]\n",
      "\n"
     ]
    }
   ],
   "source": [
    "!wget https://raw.githubusercontent.com/DataTalksClub/llm-zoomcamp/main/01-intro/minsearch.py"
   ]
  },
  {
   "cell_type": "code",
   "execution_count": 3,
   "id": "9ccd8829-d634-4617-9ed2-3eb5a09e30e3",
   "metadata": {},
   "outputs": [],
   "source": [
    "!wget -q https://raw.githubusercontent.com/DataTalksClub/llm-zoomcamp/main/01-intro/documents.json"
   ]
  },
  {
   "cell_type": "code",
   "execution_count": 48,
   "id": "deb7c599-b31c-4c04-aa4b-3751209ba2a3",
   "metadata": {},
   "outputs": [],
   "source": [
    "import minsearch\n",
    "import json\n",
    "\n",
    "\n",
    "from mistralai.client import MistralClient\n",
    "from mistralai.models.chat_completion import ChatMessage\n",
    "\n",
    "import os\n",
    "from dotenv import load_dotenv\n",
    "\n",
    "load_dotenv()\n",
    "\n",
    "api_key = os.getenv('api_key')"
   ]
  },
  {
   "cell_type": "code",
   "execution_count": 3,
   "id": "c5aadaf7-7c43-4b68-af99-83c1351ffc62",
   "metadata": {},
   "outputs": [],
   "source": [
    "with open('documents.json', 'r') as fp:\n",
    "    docs_raw = json.load(fp)"
   ]
  },
  {
   "cell_type": "code",
   "execution_count": 15,
   "id": "f73f2985-8b94-4025-abf0-3ffb8e56aab5",
   "metadata": {},
   "outputs": [],
   "source": [
    "document = []\n",
    "for docs in docs_raw:\n",
    "   for doc in docs['documents']:\n",
    "       doc['course'] = docs['course']\n",
    "       document.append(doc)"
   ]
  },
  {
   "cell_type": "code",
   "execution_count": 17,
   "id": "7a180994-2574-4bac-8229-726560758520",
   "metadata": {
    "scrolled": true
   },
   "outputs": [
    {
     "data": {
      "text/plain": [
       "{'text': \"The purpose of this document is to capture frequently asked technical questions\\nThe exact day and hour of the course will be 15th Jan 2024 at 17h00. The course will start with the first  “Office Hours'' live.1\\nSubscribe to course public Google Calendar (it works from Desktop only).\\nRegister before the course starts using this link.\\nJoin the course Telegram channel with announcements.\\nDon’t forget to register in DataTalks.Club's Slack and join the channel.\",\n",
       " 'section': 'General course-related questions',\n",
       " 'question': 'Course - When will the course start?',\n",
       " 'course': 'data-engineering-zoomcamp'}"
      ]
     },
     "execution_count": 17,
     "metadata": {},
     "output_type": "execute_result"
    }
   ],
   "source": [
    "document[0]"
   ]
  },
  {
   "cell_type": "code",
   "execution_count": 19,
   "id": "fe8a5313-e1f5-47fa-aac9-e73aaa175211",
   "metadata": {},
   "outputs": [],
   "source": [
    "mi = minsearch.Index(text_fields = ['question', 'text', 'section'], keyword_fields=['course'])"
   ]
  },
  {
   "cell_type": "code",
   "execution_count": 20,
   "id": "b06b38be-90f9-4a0e-88a8-4409877f9e35",
   "metadata": {},
   "outputs": [],
   "source": [
    "q = 'the course has already started, can I still enroll?'"
   ]
  },
  {
   "cell_type": "code",
   "execution_count": 22,
   "id": "5219c03d-93f4-4a44-958b-b8e35d81afde",
   "metadata": {},
   "outputs": [
    {
     "data": {
      "text/plain": [
       "<minsearch.Index at 0x7f514da1c400>"
      ]
     },
     "execution_count": 22,
     "metadata": {},
     "output_type": "execute_result"
    }
   ],
   "source": [
    "mi.fit(document)"
   ]
  },
  {
   "cell_type": "code",
   "execution_count": 55,
   "id": "02d99205-a835-4275-b8dc-8e7a3b190e8c",
   "metadata": {},
   "outputs": [],
   "source": [
    "def search(query):\n",
    "    boost = {'question': 3.0, 'section': 0.5, 'text': 1.0}\n",
    "    filter_dict = {'course': 'data-engineering-zoomcamp'}\n",
    "    \n",
    "    result = mi.search(query, filter_dict=filter_dict, boost_dict=boost)\n",
    "    return result"
   ]
  },
  {
   "cell_type": "code",
   "execution_count": 92,
   "id": "7b67d7f9-4e70-4d1b-a07d-8ff20376c7fc",
   "metadata": {},
   "outputs": [],
   "source": [
    "def build_prompt(query, search_result):\n",
    "    prompt_template = '''\n",
    "    You're a course teaching assistant. Answer the QUESTION base on the CONTEXT from the FAQ database.\n",
    "    use only the facts from the CONTEXT when answering the QUESTION.\n",
    "    if the CONTEXT doesn't contain the answer, output NONE.\n",
    "    \n",
    "    QUESTION: {question}\n",
    "    \n",
    "    CONTEXT: \n",
    "    {context}\n",
    "    \n",
    "    '''.strip()\n",
    "    context = ''\n",
    "\n",
    "    for doc in search_result: \n",
    "        context = context + f\"section: {doc['section']}\\nquestion: {doc['question']}\\nanswer: {doc['text']}\\n\\n\"\n",
    "    \n",
    "    prompt = prompt_template.format(question=query, context=context).strip()\n",
    "    return prompt"
   ]
  },
  {
   "cell_type": "code",
   "execution_count": 93,
   "id": "9e835c13-5749-469c-95dc-e18661c0a5ea",
   "metadata": {},
   "outputs": [],
   "source": [
    "def llm(prompt):\n",
    "    model = \"mistral-small-latest\"\n",
    "    \n",
    "    client = MistralClient(api_key=api_key)\n",
    "    \n",
    "    chat_response = client.chat(\n",
    "    model=model,\n",
    "    messages=[ChatMessage(role=\"user\", content=prompt)]\n",
    "    )\n",
    "\n",
    "\n",
    "    return chat_response.choices[0].message.content"
   ]
  },
  {
   "cell_type": "code",
   "execution_count": 100,
   "id": "78f1e1f3-04a1-4b31-8a09-05c0bd412e62",
   "metadata": {},
   "outputs": [],
   "source": [
    "def rag(query):\n",
    "    search_result = search(query)\n",
    "    prompt = build_prompt(query, search_result)\n",
    "    return llm(prompt)"
   ]
  },
  {
   "cell_type": "code",
   "execution_count": 103,
   "id": "e1f7b59e-e488-45b4-a59e-f1f672f7b4f9",
   "metadata": {},
   "outputs": [
    {
     "name": "stdout",
     "output_type": "stream",
     "text": [
      "To get the certificate for the course, you need to finish the course with a “live” cohort. You need to peer-review capstone(s) after submitting a project, which can only be done when the course is running. Certificates are not awarded for the self-paced mode.\n"
     ]
    }
   ],
   "source": [
    "print(rag('how do I get the certificate for the course?'))"
   ]
  },
  {
   "cell_type": "code",
   "execution_count": null,
   "id": "3faf046b-e359-426d-be4f-21e64c386e42",
   "metadata": {},
   "outputs": [],
   "source": []
  }
 ],
 "metadata": {
  "kernelspec": {
   "display_name": "Python 3 (ipykernel)",
   "language": "python",
   "name": "python3"
  },
  "language_info": {
   "codemirror_mode": {
    "name": "ipython",
    "version": 3
   },
   "file_extension": ".py",
   "mimetype": "text/x-python",
   "name": "python",
   "nbconvert_exporter": "python",
   "pygments_lexer": "ipython3",
   "version": "3.10.13"
  }
 },
 "nbformat": 4,
 "nbformat_minor": 5
}
