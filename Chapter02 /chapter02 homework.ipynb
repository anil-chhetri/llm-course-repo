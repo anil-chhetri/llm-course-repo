{
 "cells": [
  {
   "cell_type": "markdown",
   "id": "8ce53ff4-9e56-44e9-93ba-8677d6891216",
   "metadata": {},
   "source": [
    "Q1. getting ollama version"
   ]
  },
  {
   "cell_type": "code",
   "execution_count": null,
   "id": "f7b9b986-f81e-4b60-a7ed-c94a0cd18a33",
   "metadata": {},
   "outputs": [],
   "source": [
    "!docker run -it \\\n",
    "    --rm \\\n",
    "    -v ollama:/root/.ollama \\\n",
    "    -p 11434:11434 \\\n",
    "    --name ollama \\\n",
    "    ollama/ollama"
   ]
  },
  {
   "cell_type": "code",
   "execution_count": 5,
   "id": "e9726ded-cb44-4fc8-9f1e-5fb951f71f78",
   "metadata": {},
   "outputs": [
    {
     "name": "stdout",
     "output_type": "stream",
     "text": [
      "ollama version is 0.1.48\n"
     ]
    }
   ],
   "source": [
    "!docker exec -it ollama ollama -v"
   ]
  },
  {
   "cell_type": "markdown",
   "id": "3a574582-3a4b-44a7-a5b8-6412acd38b52",
   "metadata": {},
   "source": [
    "Q2. downloading llm"
   ]
  },
  {
   "cell_type": "code",
   "execution_count": null,
   "id": "41b13d2d-3cb7-4cbb-a021-9388f706ab03",
   "metadata": {},
   "outputs": [],
   "source": [
    "!docker exec  ollama ollama pull gemma:2b"
   ]
  },
  {
   "cell_type": "code",
   "execution_count": 4,
   "id": "3394088f-ec20-44e3-b397-d31965fa1cbd",
   "metadata": {},
   "outputs": [
    {
     "name": "stdout",
     "output_type": "stream",
     "text": [
      "{\"schemaVersion\":2,\"mediaType\":\"application/vnd.docker.distribution.manifest.v2+json\",\"config\":{\"mediaType\":\"application/vnd.docker.container.image.v1+json\",\"digest\":\"sha256:887433b89a901c156f7e6944442f3c9e57f3c55d6ed52042cbb7303aea994290\",\"size\":483},\"layers\":[{\"mediaType\":\"application/vnd.ollama.image.model\",\"digest\":\"sha256:c1864a5eb19305c40519da12cc543519e48a0697ecd30e15d5ac228644957d12\",\"size\":1678447520},{\"mediaType\":\"application/vnd.ollama.image.license\",\"digest\":\"sha256:097a36493f718248845233af1d3fefe7a303f864fae13bc31a3a9704229378ca\",\"size\":8433},{\"mediaType\":\"application/vnd.ollama.image.template\",\"digest\":\"sha256:109037bec39c0becc8221222ae23557559bc594290945a2c4221ab4f303b8871\",\"size\":136},{\"mediaType\":\"application/vnd.ollama.image.params\",\"digest\":\"sha256:22a838ceb7fb22755a3b0ae9b4eadde629d19be1f651f73efb8c6b4e2cd0eea0\",\"size\":84}]}"
     ]
    }
   ],
   "source": [
    "!docker exec -it ollama cat /root/.ollama/models/manifests/registry.ollama.ai/library/gemma/2b"
   ]
  },
  {
   "cell_type": "code",
   "execution_count": null,
   "id": "432e36f2-a709-42ba-ba15-352794136d9f",
   "metadata": {},
   "outputs": [],
   "source": []
  }
 ],
 "metadata": {
  "kernelspec": {
   "display_name": "Python 3 (ipykernel)",
   "language": "python",
   "name": "python3"
  },
  "language_info": {
   "codemirror_mode": {
    "name": "ipython",
    "version": 3
   },
   "file_extension": ".py",
   "mimetype": "text/x-python",
   "name": "python",
   "nbconvert_exporter": "python",
   "pygments_lexer": "ipython3",
   "version": "3.10.13"
  }
 },
 "nbformat": 4,
 "nbformat_minor": 5
}
