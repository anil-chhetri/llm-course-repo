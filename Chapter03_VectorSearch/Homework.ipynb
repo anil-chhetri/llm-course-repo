{
 "cells": [
  {
   "cell_type": "markdown",
   "id": "ba050718-a195-449a-8792-c41b8aeb0240",
   "metadata": {},
   "source": [
    "download the document file."
   ]
  },
  {
   "cell_type": "code",
   "execution_count": 10,
   "id": "68520bfd-bef4-4e5e-8657-f1ceb6071de3",
   "metadata": {},
   "outputs": [],
   "source": [
    "!wget https://raw.githubusercontent.com/DataTalksClub/llm-zoomcamp/main/01-intro/documents.json -q"
   ]
  },
  {
   "cell_type": "code",
   "execution_count": null,
   "id": "f802f523-fbb0-4432-aa33-bbaa860456c3",
   "metadata": {},
   "outputs": [],
   "source": [
    "!pip install sentence_transformers==2.7.0"
   ]
  },
  {
   "cell_type": "markdown",
   "id": "ef62bb1f-bd98-41ed-bc4a-ab723e935f67",
   "metadata": {},
   "source": [
    "Q1. multi-qa-distilbert-cos-v1"
   ]
  },
  {
   "cell_type": "code",
   "execution_count": 1,
   "id": "a3d89d9c-ae75-42fe-a7ba-8cc1c0c9bec3",
   "metadata": {
    "execution": {
     "iopub.execute_input": "2024-07-14T21:33:30.311648Z",
     "iopub.status.busy": "2024-07-14T21:33:30.311377Z",
     "iopub.status.idle": "2024-07-14T21:33:45.683285Z",
     "shell.execute_reply": "2024-07-14T21:33:45.682658Z",
     "shell.execute_reply.started": "2024-07-14T21:33:30.311609Z"
    }
   },
   "outputs": [
    {
     "name": "stderr",
     "output_type": "stream",
     "text": [
      "/usr/local/python/3.10.13/lib/python3.10/site-packages/tqdm/auto.py:21: TqdmWarning: IProgress not found. Please update jupyter and ipywidgets. See https://ipywidgets.readthedocs.io/en/stable/user_install.html\n",
      "  from .autonotebook import tqdm as notebook_tqdm\n"
     ]
    }
   ],
   "source": [
    "model_name = 'multi-qa-distilbert-cos-v1'\n",
    "from sentence_transformers import SentenceTransformer\n",
    "embedding_model = SentenceTransformer(model_name)"
   ]
  },
  {
   "cell_type": "code",
   "execution_count": 2,
   "id": "4bdc5b42-1c15-435f-bd26-77b684ed6241",
   "metadata": {
    "execution": {
     "iopub.execute_input": "2024-07-14T21:33:45.684785Z",
     "iopub.status.busy": "2024-07-14T21:33:45.684491Z",
     "iopub.status.idle": "2024-07-14T21:33:45.688208Z",
     "shell.execute_reply": "2024-07-14T21:33:45.687451Z",
     "shell.execute_reply.started": "2024-07-14T21:33:45.684763Z"
    }
   },
   "outputs": [],
   "source": [
    "user_question = \"I just discovered the course. Can I still join it?\""
   ]
  },
  {
   "cell_type": "code",
   "execution_count": 3,
   "id": "18d56d75-e42b-4d95-9efb-8b3d0d295725",
   "metadata": {
    "execution": {
     "iopub.execute_input": "2024-07-14T21:33:45.689683Z",
     "iopub.status.busy": "2024-07-14T21:33:45.689384Z",
     "iopub.status.idle": "2024-07-14T21:33:46.787317Z",
     "shell.execute_reply": "2024-07-14T21:33:46.786587Z",
     "shell.execute_reply.started": "2024-07-14T21:33:45.689652Z"
    }
   },
   "outputs": [
    {
     "data": {
      "text/plain": [
       "0.078222655"
      ]
     },
     "execution_count": 3,
     "metadata": {},
     "output_type": "execute_result"
    }
   ],
   "source": [
    "embedding_model.encode(user_question)[0]"
   ]
  },
  {
   "cell_type": "markdown",
   "id": "3d40d6c3-3e03-42ad-a1eb-e423cd0d00d4",
   "metadata": {},
   "source": [
    "Q2. "
   ]
  },
  {
   "cell_type": "code",
   "execution_count": 4,
   "id": "8785187a-a679-4361-bfef-1ebfdd025b18",
   "metadata": {
    "execution": {
     "iopub.execute_input": "2024-07-14T21:34:53.915491Z",
     "iopub.status.busy": "2024-07-14T21:34:53.915204Z",
     "iopub.status.idle": "2024-07-14T21:34:54.453571Z",
     "shell.execute_reply": "2024-07-14T21:34:54.452977Z",
     "shell.execute_reply.started": "2024-07-14T21:34:53.915470Z"
    }
   },
   "outputs": [],
   "source": [
    "import requests \n",
    "\n",
    "base_url = 'https://github.com/DataTalksClub/llm-zoomcamp/blob/main'\n",
    "relative_url = '03-vector-search/eval/documents-with-ids.json'\n",
    "docs_url = f'{base_url}/{relative_url}?raw=1'\n",
    "docs_response = requests.get(docs_url)\n",
    "documents = docs_response.json()"
   ]
  },
  {
   "cell_type": "code",
   "execution_count": 5,
   "id": "4e15e59f-460a-4e0f-892d-b51b85aaff98",
   "metadata": {
    "execution": {
     "iopub.execute_input": "2024-07-14T21:34:54.741702Z",
     "iopub.status.busy": "2024-07-14T21:34:54.741194Z",
     "iopub.status.idle": "2024-07-14T21:34:54.745405Z",
     "shell.execute_reply": "2024-07-14T21:34:54.744635Z",
     "shell.execute_reply.started": "2024-07-14T21:34:54.741680Z"
    }
   },
   "outputs": [],
   "source": [
    "#filtering the whole document to get only ml zooomcamp data.\n",
    "\n",
    "ml_documents = []\n",
    "for docs in documents:\n",
    "    if docs['course'] == 'machine-learning-zoomcamp':\n",
    "        ml_documents.append(docs)"
   ]
  },
  {
   "cell_type": "code",
   "execution_count": 6,
   "id": "9d9cf76b-bbe1-4825-bb89-03b3b26b8dc2",
   "metadata": {
    "execution": {
     "iopub.execute_input": "2024-07-14T21:34:55.662365Z",
     "iopub.status.busy": "2024-07-14T21:34:55.662095Z",
     "iopub.status.idle": "2024-07-14T21:34:55.666983Z",
     "shell.execute_reply": "2024-07-14T21:34:55.666187Z",
     "shell.execute_reply.started": "2024-07-14T21:34:55.662344Z"
    }
   },
   "outputs": [
    {
     "data": {
      "text/plain": [
       "375"
      ]
     },
     "execution_count": 6,
     "metadata": {},
     "output_type": "execute_result"
    }
   ],
   "source": [
    "len(ml_documents)"
   ]
  },
  {
   "cell_type": "code",
   "execution_count": 7,
   "id": "f931c0eb-b38f-4dd2-80fa-1275378b7d9d",
   "metadata": {
    "execution": {
     "iopub.execute_input": "2024-07-14T21:34:57.688640Z",
     "iopub.status.busy": "2024-07-14T21:34:57.688359Z",
     "iopub.status.idle": "2024-07-14T21:34:57.693512Z",
     "shell.execute_reply": "2024-07-14T21:34:57.692756Z",
     "shell.execute_reply.started": "2024-07-14T21:34:57.688618Z"
    }
   },
   "outputs": [
    {
     "data": {
      "text/plain": [
       "{'text': 'Machine Learning Zoomcamp FAQ\\nThe purpose of this document is to capture frequently asked technical questions.\\nWe did this for our data engineering course and it worked quite well. Check this document for inspiration on how to structure your questions and answers:\\nData Engineering Zoomcamp FAQ\\nIn the course GitHub repository there’s a link. Here it is: https://airtable.com/shryxwLd0COOEaqXo\\nwork',\n",
       " 'section': 'General course-related questions',\n",
       " 'question': 'How do I sign up?',\n",
       " 'course': 'machine-learning-zoomcamp',\n",
       " 'id': '0227b872'}"
      ]
     },
     "execution_count": 7,
     "metadata": {},
     "output_type": "execute_result"
    }
   ],
   "source": [
    "ml_documents[0]"
   ]
  },
  {
   "cell_type": "code",
   "execution_count": 8,
   "id": "3d5925ad-0bf7-486c-a26f-b39752c06b2e",
   "metadata": {
    "execution": {
     "iopub.execute_input": "2024-07-14T21:34:59.792822Z",
     "iopub.status.busy": "2024-07-14T21:34:59.792526Z",
     "iopub.status.idle": "2024-07-14T21:35:35.205092Z",
     "shell.execute_reply": "2024-07-14T21:35:35.204394Z",
     "shell.execute_reply.started": "2024-07-14T21:34:59.792801Z"
    }
   },
   "outputs": [],
   "source": [
    "embedding = []\n",
    "for doc in ml_documents:\n",
    "    qa_text = f\"{doc['question']} {doc['text']}\"\n",
    "    embed = embedding_model.encode(qa_text)\n",
    "    embedding.append(embed)"
   ]
  },
  {
   "cell_type": "code",
   "execution_count": 9,
   "id": "493117de-0925-4014-ae7a-ad673d1f239c",
   "metadata": {
    "execution": {
     "iopub.execute_input": "2024-07-14T21:35:35.207273Z",
     "iopub.status.busy": "2024-07-14T21:35:35.206976Z",
     "iopub.status.idle": "2024-07-14T21:35:35.210471Z",
     "shell.execute_reply": "2024-07-14T21:35:35.209687Z",
     "shell.execute_reply.started": "2024-07-14T21:35:35.207242Z"
    }
   },
   "outputs": [],
   "source": [
    "import numpy as np"
   ]
  },
  {
   "cell_type": "code",
   "execution_count": 10,
   "id": "17374261-ab3b-403a-b164-d7179233116e",
   "metadata": {
    "execution": {
     "iopub.execute_input": "2024-07-14T21:35:35.211430Z",
     "iopub.status.busy": "2024-07-14T21:35:35.211223Z",
     "iopub.status.idle": "2024-07-14T21:35:35.234449Z",
     "shell.execute_reply": "2024-07-14T21:35:35.233809Z",
     "shell.execute_reply.started": "2024-07-14T21:35:35.211411Z"
    }
   },
   "outputs": [],
   "source": [
    "X = np.array(embedding)"
   ]
  },
  {
   "cell_type": "code",
   "execution_count": 11,
   "id": "c0cf79fd-3d04-4eb7-acfc-bd6f88a2bad5",
   "metadata": {
    "execution": {
     "iopub.execute_input": "2024-07-14T21:35:35.236862Z",
     "iopub.status.busy": "2024-07-14T21:35:35.236477Z",
     "iopub.status.idle": "2024-07-14T21:35:35.258745Z",
     "shell.execute_reply": "2024-07-14T21:35:35.258139Z",
     "shell.execute_reply.started": "2024-07-14T21:35:35.236843Z"
    }
   },
   "outputs": [
    {
     "data": {
      "text/plain": [
       "(375, 768)"
      ]
     },
     "execution_count": 11,
     "metadata": {},
     "output_type": "execute_result"
    }
   ],
   "source": [
    "X.shape"
   ]
  },
  {
   "cell_type": "markdown",
   "id": "721c8a60-dccd-4c0c-9446-0ca012a4a382",
   "metadata": {},
   "source": [
    "Q3."
   ]
  },
  {
   "cell_type": "code",
   "execution_count": 12,
   "id": "df5ff763-8f8c-45fc-81e6-9c3df8005a1c",
   "metadata": {
    "execution": {
     "iopub.execute_input": "2024-07-14T21:35:35.259688Z",
     "iopub.status.busy": "2024-07-14T21:35:35.259486Z",
     "iopub.status.idle": "2024-07-14T21:35:35.322299Z",
     "shell.execute_reply": "2024-07-14T21:35:35.321622Z",
     "shell.execute_reply.started": "2024-07-14T21:35:35.259669Z"
    }
   },
   "outputs": [],
   "source": [
    "v = embedding_model.encode(user_question)"
   ]
  },
  {
   "cell_type": "code",
   "execution_count": 13,
   "id": "32e98391-9537-4ea4-8bfd-bdd60a98fb12",
   "metadata": {
    "execution": {
     "iopub.execute_input": "2024-07-14T21:35:35.323655Z",
     "iopub.status.busy": "2024-07-14T21:35:35.323421Z",
     "iopub.status.idle": "2024-07-14T21:35:35.330407Z",
     "shell.execute_reply": "2024-07-14T21:35:35.329785Z",
     "shell.execute_reply.started": "2024-07-14T21:35:35.323631Z"
    }
   },
   "outputs": [],
   "source": [
    "scores = X.dot(v)"
   ]
  },
  {
   "cell_type": "code",
   "execution_count": 14,
   "id": "f2e59c06-0d22-4466-b11d-f483db519c7f",
   "metadata": {
    "execution": {
     "iopub.execute_input": "2024-07-14T21:35:35.332484Z",
     "iopub.status.busy": "2024-07-14T21:35:35.331602Z",
     "iopub.status.idle": "2024-07-14T21:35:35.351547Z",
     "shell.execute_reply": "2024-07-14T21:35:35.350813Z",
     "shell.execute_reply.started": "2024-07-14T21:35:35.332453Z"
    }
   },
   "outputs": [
    {
     "data": {
      "text/plain": [
       "0.6506573"
      ]
     },
     "execution_count": 14,
     "metadata": {},
     "output_type": "execute_result"
    }
   ],
   "source": [
    "np.max(scores)"
   ]
  },
  {
   "cell_type": "markdown",
   "id": "050ab2ec-fcb3-4204-aeb1-fd13a2e6469c",
   "metadata": {},
   "source": [
    "vector search engine"
   ]
  },
  {
   "cell_type": "code",
   "execution_count": 18,
   "id": "106ea757-c1a9-4eb4-8497-9f3e53f5d8c8",
   "metadata": {
    "execution": {
     "iopub.execute_input": "2024-07-14T21:37:23.484072Z",
     "iopub.status.busy": "2024-07-14T21:37:23.483754Z",
     "iopub.status.idle": "2024-07-14T21:37:23.489573Z",
     "shell.execute_reply": "2024-07-14T21:37:23.488831Z",
     "shell.execute_reply.started": "2024-07-14T21:37:23.484052Z"
    }
   },
   "outputs": [],
   "source": [
    "class VectorSearchEngine():\n",
    "    def __init__(self, documents, embeddings):\n",
    "        self.documents = documents\n",
    "        self.embeddings = embeddings\n",
    "\n",
    "    def search(self, v_query, num_results=10):\n",
    "        scores = self.embeddings.dot(v_query)\n",
    "        idx = np.argsort(-scores)[:num_results]\n",
    "        return [self.documents[i] for i in idx]\n",
    "\n",
    "search_engine = VectorSearchEngine(documents=ml_documents, embeddings=X)\n",
    "vector_search_engine_result = search_engine.search(v, num_results=5)"
   ]
  },
  {
   "cell_type": "code",
   "execution_count": 19,
   "id": "34f69622-7049-4bdb-b979-5797d72ab971",
   "metadata": {
    "execution": {
     "iopub.execute_input": "2024-07-14T21:38:33.410536Z",
     "iopub.status.busy": "2024-07-14T21:38:33.410260Z",
     "iopub.status.idle": "2024-07-14T21:38:33.803803Z",
     "shell.execute_reply": "2024-07-14T21:38:33.803085Z",
     "shell.execute_reply.started": "2024-07-14T21:38:33.410516Z"
    }
   },
   "outputs": [],
   "source": [
    "import pandas as pd\n",
    "\n",
    "base_url = 'https://github.com/DataTalksClub/llm-zoomcamp/blob/main'\n",
    "relative_url = '03-vector-search/eval/ground-truth-data.csv'\n",
    "ground_truth_url = f'{base_url}/{relative_url}?raw=1'\n",
    "\n",
    "df_ground_truth = pd.read_csv(ground_truth_url)\n",
    "df_ground_truth = df_ground_truth[df_ground_truth.course == 'machine-learning-zoomcamp']\n",
    "ground_truth = df_ground_truth.to_dict(orient='records')"
   ]
  },
  {
   "cell_type": "code",
   "execution_count": null,
   "id": "9da42f65-bbce-45a3-85a9-9772df31d932",
   "metadata": {},
   "outputs": [],
   "source": []
  },
  {
   "cell_type": "code",
   "execution_count": 34,
   "id": "216e5f19-0970-40d1-8c7b-5c8241bb3c58",
   "metadata": {
    "execution": {
     "iopub.execute_input": "2024-07-14T21:49:46.799280Z",
     "iopub.status.busy": "2024-07-14T21:49:46.799004Z",
     "iopub.status.idle": "2024-07-14T21:49:46.804128Z",
     "shell.execute_reply": "2024-07-14T21:49:46.803361Z",
     "shell.execute_reply.started": "2024-07-14T21:49:46.799260Z"
    }
   },
   "outputs": [
    {
     "data": {
      "text/plain": [
       "{'question': 'Where can I sign up for the course?',\n",
       " 'course': 'machine-learning-zoomcamp',\n",
       " 'document': '0227b872'}"
      ]
     },
     "execution_count": 34,
     "metadata": {},
     "output_type": "execute_result"
    }
   ],
   "source": [
    "ground_truth[0]"
   ]
  },
  {
   "cell_type": "code",
   "execution_count": 29,
   "id": "261d8e73-a82b-4d02-9642-6315ec245fcb",
   "metadata": {
    "execution": {
     "iopub.execute_input": "2024-07-14T21:43:12.197257Z",
     "iopub.status.busy": "2024-07-14T21:43:12.196668Z",
     "iopub.status.idle": "2024-07-14T21:43:12.202367Z",
     "shell.execute_reply": "2024-07-14T21:43:12.201387Z",
     "shell.execute_reply.started": "2024-07-14T21:43:12.197232Z"
    }
   },
   "outputs": [
    {
     "data": {
      "text/plain": [
       "5"
      ]
     },
     "execution_count": 29,
     "metadata": {},
     "output_type": "execute_result"
    }
   ],
   "source": [
    "len(vector_search_engine_result)"
   ]
  },
  {
   "cell_type": "markdown",
   "id": "1ba644fc-21ab-40a2-b380-c5a0fbeb0bef",
   "metadata": {},
   "source": [
    "calculate hit rate."
   ]
  },
  {
   "cell_type": "code",
   "execution_count": 36,
   "id": "90cc24c1-dcb9-4e53-9316-a178a62da969",
   "metadata": {
    "execution": {
     "iopub.execute_input": "2024-07-14T21:52:15.725019Z",
     "iopub.status.busy": "2024-07-14T21:52:15.724410Z",
     "iopub.status.idle": "2024-07-14T21:52:15.732464Z",
     "shell.execute_reply": "2024-07-14T21:52:15.731780Z",
     "shell.execute_reply.started": "2024-07-14T21:52:15.724997Z"
    }
   },
   "outputs": [
    {
     "data": {
      "text/html": [
       "<div>\n",
       "<style scoped>\n",
       "    .dataframe tbody tr th:only-of-type {\n",
       "        vertical-align: middle;\n",
       "    }\n",
       "\n",
       "    .dataframe tbody tr th {\n",
       "        vertical-align: top;\n",
       "    }\n",
       "\n",
       "    .dataframe thead th {\n",
       "        text-align: right;\n",
       "    }\n",
       "</style>\n",
       "<table border=\"1\" class=\"dataframe\">\n",
       "  <thead>\n",
       "    <tr style=\"text-align: right;\">\n",
       "      <th></th>\n",
       "      <th>question</th>\n",
       "      <th>course</th>\n",
       "      <th>document</th>\n",
       "    </tr>\n",
       "  </thead>\n",
       "  <tbody>\n",
       "    <tr>\n",
       "      <th>2193</th>\n",
       "      <td>If I join the course late, can I still partici...</td>\n",
       "      <td>machine-learning-zoomcamp</td>\n",
       "      <td>ee58a693</td>\n",
       "    </tr>\n",
       "    <tr>\n",
       "      <th>2194</th>\n",
       "      <td>Will I be able to obtain a certificate if I jo...</td>\n",
       "      <td>machine-learning-zoomcamp</td>\n",
       "      <td>ee58a693</td>\n",
       "    </tr>\n",
       "    <tr>\n",
       "      <th>2195</th>\n",
       "      <td>How many course projects must I submit to be e...</td>\n",
       "      <td>machine-learning-zoomcamp</td>\n",
       "      <td>ee58a693</td>\n",
       "    </tr>\n",
       "    <tr>\n",
       "      <th>2196</th>\n",
       "      <td>What is the requirement for peer reviews to ge...</td>\n",
       "      <td>machine-learning-zoomcamp</td>\n",
       "      <td>ee58a693</td>\n",
       "    </tr>\n",
       "    <tr>\n",
       "      <th>2197</th>\n",
       "      <td>Can I submit homework if I join the course aft...</td>\n",
       "      <td>machine-learning-zoomcamp</td>\n",
       "      <td>ee58a693</td>\n",
       "    </tr>\n",
       "  </tbody>\n",
       "</table>\n",
       "</div>"
      ],
      "text/plain": [
       "                                               question  \\\n",
       "2193  If I join the course late, can I still partici...   \n",
       "2194  Will I be able to obtain a certificate if I jo...   \n",
       "2195  How many course projects must I submit to be e...   \n",
       "2196  What is the requirement for peer reviews to ge...   \n",
       "2197  Can I submit homework if I join the course aft...   \n",
       "\n",
       "                         course  document  \n",
       "2193  machine-learning-zoomcamp  ee58a693  \n",
       "2194  machine-learning-zoomcamp  ee58a693  \n",
       "2195  machine-learning-zoomcamp  ee58a693  \n",
       "2196  machine-learning-zoomcamp  ee58a693  \n",
       "2197  machine-learning-zoomcamp  ee58a693  "
      ]
     },
     "execution_count": 36,
     "metadata": {},
     "output_type": "execute_result"
    }
   ],
   "source": [
    "df_ground_truth[df_ground_truth.document == 'ee58a693']"
   ]
  },
  {
   "cell_type": "code",
   "execution_count": 41,
   "id": "2867950e-df42-4505-be7c-f703239b679d",
   "metadata": {
    "execution": {
     "iopub.execute_input": "2024-07-14T22:09:22.508794Z",
     "iopub.status.busy": "2024-07-14T22:09:22.508512Z",
     "iopub.status.idle": "2024-07-14T22:11:40.281190Z",
     "shell.execute_reply": "2024-07-14T22:11:40.280433Z",
     "shell.execute_reply.started": "2024-07-14T22:09:22.508774Z"
    }
   },
   "outputs": [
    {
     "name": "stderr",
     "output_type": "stream",
     "text": [
      "100%|███████████████████████████████████████████████████████████████████████████████████████████████████| 1830/1830 [02:17<00:00, 13.28it/s]\n"
     ]
    }
   ],
   "source": [
    "from tqdm import tqdm\n",
    "\n",
    "relevance_total = []\n",
    "\n",
    "for doc in tqdm(ground_truth):\n",
    "    query_embeddding = embedding_model.encode(doc['question'])\n",
    "    result = search_engine.search(query_embeddding, num_results=5)\n",
    "    relevance = [doc['document'] == d['id']  for d in result]\n",
    "\n",
    "    relevance_total.append(relevance)\n",
    "    "
   ]
  },
  {
   "cell_type": "code",
   "execution_count": 42,
   "id": "5ec8e2b3-8844-48ee-88c2-bc1cff7536b8",
   "metadata": {
    "execution": {
     "iopub.execute_input": "2024-07-14T22:11:45.392698Z",
     "iopub.status.busy": "2024-07-14T22:11:45.392410Z",
     "iopub.status.idle": "2024-07-14T22:11:45.396348Z",
     "shell.execute_reply": "2024-07-14T22:11:45.395666Z",
     "shell.execute_reply.started": "2024-07-14T22:11:45.392679Z"
    }
   },
   "outputs": [],
   "source": [
    "def hit_rate(relevance_total):\n",
    "    cnt = 0\n",
    "\n",
    "    for line in relevance_total:\n",
    "        if True in line:\n",
    "            cnt = cnt + 1\n",
    "\n",
    "    return cnt / len(relevance_total)"
   ]
  },
  {
   "cell_type": "code",
   "execution_count": 43,
   "id": "3615d37c-e348-417a-8a93-b59543a58ecf",
   "metadata": {
    "execution": {
     "iopub.execute_input": "2024-07-14T22:11:57.567500Z",
     "iopub.status.busy": "2024-07-14T22:11:57.567222Z",
     "iopub.status.idle": "2024-07-14T22:11:57.572283Z",
     "shell.execute_reply": "2024-07-14T22:11:57.571572Z",
     "shell.execute_reply.started": "2024-07-14T22:11:57.567480Z"
    }
   },
   "outputs": [
    {
     "data": {
      "text/plain": [
       "0.9398907103825137"
      ]
     },
     "execution_count": 43,
     "metadata": {},
     "output_type": "execute_result"
    }
   ],
   "source": [
    "hit_rate(relevance_total)"
   ]
  },
  {
   "cell_type": "code",
   "execution_count": null,
   "id": "df16223c-a5c9-4fd4-b097-7d015d23087b",
   "metadata": {},
   "outputs": [],
   "source": []
  }
 ],
 "metadata": {
  "kernelspec": {
   "display_name": "Python 3 (ipykernel)",
   "language": "python",
   "name": "python3"
  },
  "language_info": {
   "codemirror_mode": {
    "name": "ipython",
    "version": 3
   },
   "file_extension": ".py",
   "mimetype": "text/x-python",
   "name": "python",
   "nbconvert_exporter": "python",
   "pygments_lexer": "ipython3",
   "version": "3.10.13"
  }
 },
 "nbformat": 4,
 "nbformat_minor": 5
}
